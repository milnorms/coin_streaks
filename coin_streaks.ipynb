{
  "nbformat": 4,
  "nbformat_minor": 0,
  "metadata": {
    "colab": {
      "name": "coin_streaks.ipynb",
      "provenance": [],
      "collapsed_sections": []
    },
    "kernelspec": {
      "name": "python3",
      "display_name": "Python 3"
    }
  },
  "cells": [
    {
      "cell_type": "code",
      "metadata": {
        "id": "qzy_5M-8xUpz",
        "outputId": "a97983d8-254a-44e0-f32e-7984a00bfc83",
        "colab": {
          "base_uri": "https://localhost:8080/",
          "height": 221
        }
      },
      "source": [
        "import numpy as np\n",
        "import matplotlib.pyplot as plt\n",
        "import seaborn as sns\n",
        "import random\n",
        "\n",
        "\n",
        "# setup\n",
        "simulation = 1000\n",
        "flips = 10 # Number of flips/coins being flipped\n",
        "matches = 0\n",
        "\n",
        "print('#### Running', simulation, 'simulations with', flips, 'coins ####\\n')\n",
        "\n",
        "for sim in range(simulation):\n",
        "  # Reset these values every simulation\n",
        "\n",
        "  coins = [] # All the coin flips in order\n",
        "  streaks = 0 # Count number of streaks\n",
        "  max_streaks = 0 # Max number of streaks\n",
        "\n",
        "\n",
        "  for flip in range(flips):\n",
        "    coins.append(random.randint(0,1)) # Generate random 1s and 0s\n",
        "    if flip > 0:\n",
        "      if coins[flip-1] == coins[flip]: # If previous coin flip is equal to current, streak begins\n",
        "        # print(\"flip\", flip+1, \"streaks\", streaks)\n",
        "        if streaks == 0: # If this is a new streak\n",
        "          streaks = 1\n",
        "        streaks += 1 # Increment streak by 1\n",
        "        if max_streaks < streaks:\n",
        "          max_streaks = streaks\n",
        "\n",
        "      else:\n",
        "        # print(\"flip not\", flip+1)\n",
        "        streaks = 0 # Set streaks back to 0 if streak is broken\n",
        "\n",
        "\n",
        "\n",
        "  \n",
        "  if (max_streaks == flips):\n",
        "    print(flips, 'coins match! \\n', coins, '\\n', max_streaks)\n",
        "    matches += 1\n",
        "\n",
        "print(\"Out of\", simulation, \"simulations,\", matches, \"got a perfect streak\")\n",
        "\n",
        "\n",
        "\n",
        "\n",
        "\n",
        "\n",
        "\n",
        "\n"
      ],
      "execution_count": 332,
      "outputs": [
        {
          "output_type": "stream",
          "text": [
            "#### Running 1000 simulations with 10 coins ####\n",
            "\n",
            "10 coins match! \n",
            " [0, 0, 0, 0, 0, 0, 0, 0, 0, 0] \n",
            " 10\n",
            "10 coins match! \n",
            " [0, 0, 0, 0, 0, 0, 0, 0, 0, 0] \n",
            " 10\n",
            "10 coins match! \n",
            " [0, 0, 0, 0, 0, 0, 0, 0, 0, 0] \n",
            " 10\n",
            "Out of 1000 simulations, 3 got a perfect streak\n"
          ],
          "name": "stdout"
        }
      ]
    }
  ]
}